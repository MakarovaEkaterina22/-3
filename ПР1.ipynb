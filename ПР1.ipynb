{
  "nbformat": 4,
  "nbformat_minor": 0,
  "metadata": {
    "colab": {
      "name": "ПР1",
      "provenance": [],
      "authorship_tag": "ABX9TyMudTmRuISfD3jldWxSDM3H",
      "include_colab_link": true
    },
    "kernelspec": {
      "name": "python3",
      "display_name": "Python 3"
    },
    "language_info": {
      "name": "python"
    }
  },
  "cells": [
    {
      "cell_type": "markdown",
      "metadata": {
        "id": "view-in-github",
        "colab_type": "text"
      },
      "source": [
        "<a href=\"https://colab.research.google.com/github/MakarovaEkaterina22/-3/blob/main/%D0%9F%D0%A01.ipynb\" target=\"_parent\"><img src=\"https://colab.research.google.com/assets/colab-badge.svg\" alt=\"Open In Colab\"/></a>"
      ]
    },
    {
      "cell_type": "code",
      "metadata": {
        "colab": {
          "base_uri": "https://localhost:8080/"
        },
        "id": "hWEwvIMJZu6s",
        "outputId": "a9b8b87c-4322-4934-888e-59272b5bd9db"
      },
      "source": [
        "class First:\n",
        "  color = \"red\"\n",
        "  def out(self):\n",
        "    print(self.color + \"!\")\n",
        "\n",
        "obj1= First()\n",
        "obj2= First()\n",
        "print(obj1.color)\n",
        "print(obj2.color)\n",
        "obj1.out()\n",
        "obj2.out()"
      ],
      "execution_count": 1,
      "outputs": [
        {
          "output_type": "stream",
          "name": "stdout",
          "text": [
            "red\n",
            "red\n",
            "red!\n",
            "red!\n"
          ]
        }
      ]
    },
    {
      "cell_type": "code",
      "metadata": {
        "colab": {
          "base_uri": "https://localhost:8080/"
        },
        "id": "T2LuXFd-f8xH",
        "outputId": "7c272284-b180-4ffd-a8cb-addafeb34139"
      },
      "source": [
        "class Second:\n",
        "  color = \"red\"\n",
        "  form = \"circle\"\n",
        "  coat = \"mat\"# добавленное свойсвто - покрытие \n",
        "  def changecolor(self, newcolor):\n",
        "    self.color = newcolor\n",
        "  def changeform(self,newform):\n",
        "    self.form = newform\n",
        "  def changecoat(self, newcoat): #метод изменяющий покрытие \n",
        "    self.coat = newcoat\n",
        "obj1= Second()\n",
        "obj2= Second()\n",
        "obj3= Second()# 3 объект\n",
        "print(obj1.color, obj1.form)\n",
        "print(obj2.color, obj2.form)\n",
        "print(obj3.color, obj3.form, obj3.coat)\n",
        "obj1.changecolor(\"green\")\n",
        "obj2.changecolor(\"blue\")\n",
        "obj2.changeform(\"oval\")\n",
        "obj3.changecolor(\"yellow\")\n",
        "obj3.changeform(\"cube\")\n",
        "obj3.changecoat(\"glossy\")\n",
        "print(obj1.color, obj1.form)\n",
        "print(obj2.color, obj2.form)\n",
        "print(obj3.color, obj3.form, obj3.coat)"
      ],
      "execution_count": 5,
      "outputs": [
        {
          "output_type": "stream",
          "name": "stdout",
          "text": [
            "red circle\n",
            "red circle\n",
            "red circle mat\n",
            "green circle\n",
            "blue oval\n",
            "yellow cube glossy\n"
          ]
        }
      ]
    },
    {
      "cell_type": "code",
      "metadata": {
        "colab": {
          "base_uri": "https://localhost:8080/"
        },
        "id": "T9Br2f3JRFFX",
        "outputId": "7251c7ce-0099-4846-aeb8-911ad289c26b"
      },
      "source": [
        "class Building:\n",
        "  def __init__(self,w,c,n=0):\n",
        "    self.what = w\n",
        "    self.color = c\n",
        "    self.numbers = n\n",
        "    self.mwhere(n)\n",
        "  def mwhere(self, n):\n",
        "    if n <= 0:\n",
        "      self.where = 'отсутствуют'\n",
        "    elif 0< n< 100:\n",
        "      self.where = 'малый склад'\n",
        "    else:\n",
        "      self.where = 'основной склад'\n",
        "  def plus(self, p):\n",
        "    self.numbers = self.numbers + p\n",
        "    self.mwhere(self.numbers)\n",
        "  def minus(self, m):\n",
        "    self.numbers = self.numbers - m \n",
        "    self.mwhere(self.numbers)\n",
        "\n",
        "m1=Building('доски', 'белые', 50)\n",
        "m2=Building('доски', 'коричневые', 300)\n",
        "m3=Building('доски', 'белые')\n",
        "print(m1.what,m1.color,m1.where)\n",
        "print(m2.what,m2.color,m2.where)\n",
        "print(m3.what,m3.color,m3.where)\n",
        "m1.plus(500)\n",
        "print(m1.numbers, m1.where)"
      ],
      "execution_count": 13,
      "outputs": [
        {
          "output_type": "stream",
          "name": "stdout",
          "text": [
            "доски белые малый склад\n",
            "доски коричневые основной склад\n",
            "доски белые отсутствуют\n",
            "550 основной склад\n"
          ]
        }
      ]
    },
    {
      "cell_type": "code",
      "metadata": {
        "colab": {
          "base_uri": "https://localhost:8080/"
        },
        "id": "ghAayUaZYO75",
        "outputId": "96b97584-89f8-4586-98bb-00d56735cd52"
      },
      "source": [
        "class Flowers:\n",
        "  def __init__(self,c,s):\n",
        "    self.color = c\n",
        "    self.season = s\n",
        "    self.floret(s)\n",
        "  def floret(self,s):\n",
        "    if s==\"зима\":\n",
        "      self.flor = \"цветок замёрз\"\n",
        "    elif s==\"весна\":\n",
        "      self.flor = \"бутончики виднеются\"\n",
        "    elif s==\"лето\":\n",
        "      self.flor = \"аромат распустившихся цветков благоухает на всю улицу\"\n",
        "    else:\n",
        "      self.flor = \"цветок готовиться к зиме\"\n",
        "f1 = Flowers(\"Нежно-розовые лепестки\",\"весна\")\n",
        "f2 = Flowers(\"Ярко-жёлтые лепестки\", \"лето\")\n",
        "print(f1.color, f1.season, f1.flor)\n",
        "print(f2.color, f2.season, f2.flor)\n"
      ],
      "execution_count": 15,
      "outputs": [
        {
          "output_type": "stream",
          "name": "stdout",
          "text": [
            "Нежно-розовые лепестки весна бутончики виднеются\n",
            "Ярко-жёлтые лепестки лето аромат распустившихся цветков благоухает на всю улицу\n"
          ]
        }
      ]
    },
    {
      "cell_type": "code",
      "metadata": {
        "colab": {
          "base_uri": "https://localhost:8080/"
        },
        "id": "oLUFZHoImCf3",
        "outputId": "71fefbcd-6167-4a5c-aba0-affaefb6c9be"
      },
      "source": [
        "class Things:\n",
        "  def __init__(self,n,t):\n",
        "    self.namething = n\n",
        "    self.total = t \n",
        "th1 = Things('table', 5)\n",
        "th2 = Things('computer', 7)\n",
        "print(th1.namething, th1.total)\n",
        "print(th2.namething, th2.total)\n",
        "th1.color = 'green'\n",
        "th2.color = 'white'\n",
        "print(th1.color)\n",
        "print(th2.color)"
      ],
      "execution_count": 18,
      "outputs": [
        {
          "output_type": "stream",
          "name": "stdout",
          "text": [
            "table 5\n",
            "computer 7\n",
            "green\n",
            "white\n"
          ]
        }
      ]
    },
    {
      "cell_type": "code",
      "metadata": {
        "colab": {
          "base_uri": "https://localhost:8080/"
        },
        "id": "yXlbNN4rqa0w",
        "outputId": "2a30a518-ba76-422c-ee2d-9049bd2f76e8"
      },
      "source": [
        "class Table:\n",
        "  def __init__(self,l,w,h):\n",
        "    self.long = l \n",
        "    self.width = w\n",
        "    self.height = h\n",
        "  def outing(self):\n",
        "    print(self.long,self.width, self.height)\n",
        "\n",
        "class Kitchen(Table):\n",
        "  def howplace(self, n):\n",
        "    if n< 2:\n",
        "      print(\"It isn't kitchen table\")\n",
        "    else:\n",
        "      self.places = n\n",
        "  \n",
        "  def outplases(self):\n",
        "    print(self.places)\n",
        "\n",
        "class Worker(Table):\n",
        "  def space_for_papers(self):\n",
        "    print(\"Выдвижная полка под столом для бумаг\")\n",
        "  def hole_for_wires(self):\n",
        "    print(\"Небольшое отверстие в правом углу стола для проводов\")\n",
        "\n",
        "t_room1 = Kitchen(2,1,0.5)\n",
        "t_room1.outing()\n",
        "t_room1.howplace(5)\n",
        "t_room1.outplases()\n",
        "\n",
        "t_2 = Table(1,3,0.7)\n",
        "t_2.outing()\n",
        "\n",
        "tw= Worker(1.5, 1, 0.8)\n",
        "tw.space_for_papers()\n",
        "tw.hole_for_wires()"
      ],
      "execution_count": 21,
      "outputs": [
        {
          "output_type": "stream",
          "name": "stdout",
          "text": [
            "2 1 0.5\n",
            "5\n",
            "1 3 0.7\n",
            "Выдвижная полка под столом для бумаг\n",
            "Небольшое отверстие в правом углу стола для проводов\n"
          ]
        }
      ]
    },
    {
      "cell_type": "code",
      "metadata": {
        "id": "3aMoQQLlvoQR"
      },
      "source": [
        "class Figure:\n",
        "  def __init__(self,c):\n",
        "    self.color = color \n",
        "    color = \"white\"\n",
        "  def changecolor(self, newcolor):\n",
        "    self.color = newcolor\n",
        "\n",
        "class Oval(Figure):\n",
        "  def __init__(self):\n",
        "    self.diametr = int(input(\"Введите диаметр овала\"))\n",
        "    self.outline = int(input(\"Введите длину окружности\"))\n",
        "\n",
        "class Square(Figure):\n",
        "  def __init__(self):\n",
        "    self.a = int(input(\"Введите сторону квадрата\"))"
      ],
      "execution_count": 22,
      "outputs": []
    }
  ]
}