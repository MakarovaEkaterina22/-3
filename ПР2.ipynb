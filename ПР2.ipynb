{
  "nbformat": 4,
  "nbformat_minor": 0,
  "metadata": {
    "colab": {
      "name": "ПР2",
      "provenance": [],
      "authorship_tag": "ABX9TyMObBB7I+OWrhKLUBa6xM08",
      "include_colab_link": true
    },
    "kernelspec": {
      "display_name": "Python 3",
      "name": "python3"
    },
    "language_info": {
      "name": "python"
    }
  },
  "cells": [
    {
      "cell_type": "markdown",
      "metadata": {
        "id": "view-in-github",
        "colab_type": "text"
      },
      "source": [
        "<a href=\"https://colab.research.google.com/github/MakarovaEkaterina22/-3/blob/main/%D0%9F%D0%A02.ipynb\" target=\"_parent\"><img src=\"https://colab.research.google.com/assets/colab-badge.svg\" alt=\"Open In Colab\"/></a>"
      ]
    },
    {
      "cell_type": "code",
      "metadata": {
        "colab": {
          "base_uri": "https://localhost:8080/"
        },
        "id": "QFh6CnEL-4GD",
        "outputId": "04d9e543-af09-417a-eca1-122cf01d3899"
      },
      "source": [
        "class Person:\n",
        "  def __init__(self, n, s, q = 1):\n",
        "    self.name = n\n",
        "    self.surname = s\n",
        "    self.skill = q\n",
        "  def info (self):\n",
        "      return \"{0}.{1}, {2}\".format(self.name, self.surname, self.skill)\n",
        "  def __del__(self):\n",
        "      print(\"До свидания, мистер {} {}\".format(self.name, self.surname))\n",
        "  \n",
        "worker = Person(\"И\",\"Котов\",3)\n",
        "helper = Person(\"Д\",\"Мышев\",1)\n",
        "maker = Person(\"О\",\"Рисов\",2)\n",
        "print(worker.info())\n",
        "print(helper.info())\n",
        "print(maker.info())\n",
        "del helper\n",
        "print(\"Конец программы\")\n",
        "input()"
      ],
      "execution_count": null,
      "outputs": [
        {
          "output_type": "stream",
          "name": "stdout",
          "text": [
            "И.Котов, 3\n",
            "Д.Мышев, 1\n",
            "О.Рисов, 2\n",
            "До свидания, мистер Д Мышев\n",
            "Конец программы\n",
            "До свидания, мистер И Котов\n",
            "До свидания, мистер О Рисов\n"
          ]
        }
      ]
    },
    {
      "cell_type": "code",
      "metadata": {
        "colab": {
          "base_uri": "https://localhost:8080/"
        },
        "id": "F5v15Vn2FZJM",
        "outputId": "1a51fc83-64a4-423b-b2cf-7e2c7e37fb21"
      },
      "source": [
        "class Student:\n",
        "  def __init__(self, surname, university, gender, grade, group = \"ADEY-211\"):\n",
        "    self.surname = surname\n",
        "    self.university = university\n",
        "    self.gender = gender\n",
        "    self.grade = grade\n",
        "    self.group = group\n",
        "  def display(self):\n",
        "    return \"{}, {}, {}, {}, {}\". format(self.surname, self.university,self.gender, d[self.grade], self.group)\n",
        "  def __del__(self):\n",
        "      print(\"Отчислить студента {} {}\".format(self.surname, self.grade))\n",
        "d = {2: \"Должник\", 4: \"Ударник\", 5: \"Отличник\"}\n",
        "s1= Student(\"Петров\", \"МГПУ\", \"м\", 5)\n",
        "s2 = Student(\"Рыженький\", \"МГПУ\", \"м\", 2)\n",
        "print(s1.display())\n",
        "print(s2.display())\n",
        "del s2"
      ],
      "execution_count": 41,
      "outputs": [
        {
          "output_type": "stream",
          "name": "stdout",
          "text": [
            "Петров, МГПУ, м, Отличник, ADEY-211\n",
            "Рыженький, МГПУ, м, Должник, ADEY-211\n",
            "Отчислить студента Рыженький 2\n"
          ]
        }
      ]
    }
  ]
}