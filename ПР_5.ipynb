{
  "nbformat": 4,
  "nbformat_minor": 0,
  "metadata": {
    "colab": {
      "name": "ПР 5",
      "provenance": [],
      "authorship_tag": "ABX9TyPsat6ylTvCrOX1jzR8aAnx",
      "include_colab_link": true
    },
    "kernelspec": {
      "name": "python3",
      "display_name": "Python 3"
    },
    "language_info": {
      "name": "python"
    }
  },
  "cells": [
    {
      "cell_type": "markdown",
      "metadata": {
        "id": "view-in-github",
        "colab_type": "text"
      },
      "source": [
        "<a href=\"https://colab.research.google.com/github/MakarovaEkaterina22/-3/blob/main/%D0%9F%D0%A0_5.ipynb\" target=\"_parent\"><img src=\"https://colab.research.google.com/assets/colab-badge.svg\" alt=\"Open In Colab\"/></a>"
      ]
    },
    {
      "cell_type": "code",
      "metadata": {
        "colab": {
          "base_uri": "https://localhost:8080/"
        },
        "id": "oBIanxsB1vN7",
        "outputId": "7964a507-6787-4f6a-a237-647c8283034b"
      },
      "source": [
        "class Win_Door:\n",
        "    def __init__(self,x,y):\n",
        "        self.square=x*y\n",
        "class Room:\n",
        "    def __init__(self,width,lenght,hight,wd):\n",
        "        self.square=2*hight*(width+lenght)\n",
        "        self.wd=[]\n",
        "    def addWD(self,w,h):\n",
        "        self.wd.append(Win_Door(w,h))\n",
        "    def workSurface(self):\n",
        "        new_square=self.square\n",
        "        for i in self.wd:\n",
        "            new_square-=i.square\n",
        "        return new_square\n",
        "    def roolons(self,rw,rl):\n",
        "       roolon=rw*rl\n",
        "       new_square=self.square\n",
        "       for i in self.wd:\n",
        "          new_square-=i.square\n",
        "       roolon_needed=new_square/roolon\n",
        "       return roolon_needed\n",
        "        \n",
        "r1=Room(6,3,2.7,0)\n",
        "print(r1.square)\n",
        "r1.addWD(1,1)\n",
        "r1.addWD(1,1)\n",
        "r1.addWD(1,2)\n",
        "print(r1.workSurface())\n",
        "print(r1.roolons(1.5,2))"
      ],
      "execution_count": 3,
      "outputs": [
        {
          "output_type": "stream",
          "name": "stdout",
          "text": [
            "48.6\n",
            "44.6\n",
            "14.866666666666667\n"
          ]
        }
      ]
    }
  ]
}